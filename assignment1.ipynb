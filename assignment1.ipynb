{
 "cells": [
  {
   "cell_type": "code",
   "execution_count": 5,
   "id": "cdc8d000-c7f0-4137-a20d-87cc73d01538",
   "metadata": {},
   "outputs": [
    {
     "name": "stdin",
     "output_type": "stream",
     "text": [
      "enter your electric bill 310\n"
     ]
    },
    {
     "name": "stdout",
     "output_type": "stream",
     "text": [
      "cost = 2250\n"
     ]
    }
   ],
   "source": [
    "# python program to compute the electricity bill for a household\n",
    "#Question 3 \n",
    "totalusage=int(input(\"enter your electric bill\"))\n",
    "cost=0\n",
    "if totalusage<=100:\n",
    "    for i in range(1,totalusage+1):\n",
    "        i = i * 4.5\n",
    "        cost = i\n",
    "    print(cost)\n",
    "    \n",
    "elif totalusage>100 and totalusage<=200:\n",
    "    for i in range (1,totalusage-99):\n",
    "        i= i * 6\n",
    "        cost = i \n",
    "    print(cost + 450)\n",
    "elif totalusage>200 and totalusage<=300:\n",
    "    for i in range(1,totalusage-199):\n",
    "        i = i * 10\n",
    "        cost = i\n",
    "    print(cost + 1050)\n",
    "else:\n",
    "    for i in range(1,totalusage-299):\n",
    "        i = i * 20\n",
    "        cost = i\n",
    "    print(\"cost =\",cost + 2050)    "
   ]
  },
  {
   "cell_type": "code",
   "execution_count": 6,
   "id": "d27566a0-3cc2-42be-963e-833f17c45fb6",
   "metadata": {},
   "outputs": [
    {
     "name": "stdout",
     "output_type": "stream",
     "text": [
      "a\n",
      "o\n",
      "e\n",
      "o\n",
      "e\n",
      "a\n",
      "a\n",
      "a\n",
      "i\n",
      "e\n",
      "i\n",
      "Number of vowels in the given string is:  11\n"
     ]
    }
   ],
   "source": [
    "#Q5\n",
    "vowels = [\"a\", \"e\", \"i\", \"o\", \"u\"]\n",
    "count = 0\n",
    "string=\"I want to become a data scientist\"\n",
    "for i in string:\n",
    "    if i in vowels:\n",
    "        count += 1\n",
    "        print(i)\n",
    "print(\"Number of vowels in the given string is: \", count)"
   ]
  },
  {
   "cell_type": "code",
   "execution_count": 7,
   "id": "9d035204-6e96-4ef2-b2a5-6a479b29aa0a",
   "metadata": {},
   "outputs": [
    {
     "name": "stdout",
     "output_type": "stream",
     "text": [
      "[8, 64, 125, 216, 512, 1000, 1728, 2744, 3375, 4096, 5832, 8000, 10648, 13824, 15625, 17576, 21952, 27000, 32768, 39304, 42875, 46656, 54872, 64000, 74088, 85184, 91125, 97336, 110592, 125000, 140608, 157464, 166375, 175616, 195112, 216000, 238328, 262144, 274625, 287496, 314432, 343000, 373248, 405224, 421875, 438976, 474552, 512000, 551368, 592704, 614125, 636056, 681472, 729000, 778688, 830584, 857375, 884736, 941192, 1000000]\n"
     ]
    }
   ],
   "source": [
    "#Q4 while loop\n",
    "list1=[]\n",
    "cube=int\n",
    "l1=list(range(1,100+1))\n",
    "i=0\n",
    "while i<len(l1):\n",
    "    i =i+1\n",
    "    cube = i*i*i\n",
    "    if cube%4==0 or cube%5==0:\n",
    "        list1.append(cube)\n",
    "print(list1)"
   ]
  },
  {
   "cell_type": "code",
   "execution_count": 8,
   "id": "3432ac0b-f03c-4d45-96ae-c0ae5576ebed",
   "metadata": {},
   "outputs": [
    {
     "name": "stdout",
     "output_type": "stream",
     "text": [
      "[8, 64, 125, 216, 512, 1000, 1728, 2744, 3375, 4096, 5832, 8000, 10648, 13824, 15625, 17576, 21952, 27000, 32768, 39304, 42875, 46656, 54872, 64000, 74088, 85184, 91125, 97336, 110592, 125000, 140608, 157464, 166375, 175616, 195112, 216000, 238328, 262144, 274625, 287496, 314432, 343000, 373248, 405224, 421875, 438976, 474552, 512000, 551368, 592704, 614125, 636056, 681472, 729000, 778688, 830584, 857375, 884736, 941192, 1000000]\n"
     ]
    }
   ],
   "source": [
    "#Question 4\n",
    "#for loop\n",
    "list1=[]\n",
    "l1=list(range(1,100+1))\n",
    "for i in l1:\n",
    "    i = i*i*i\n",
    "    if i%4==0 or i%5==0:\n",
    "        list1.append(i)\n",
    "print(list1)\n",
    "\n",
    "    \n",
    "    "
   ]
  },
  {
   "cell_type": "code",
   "execution_count": null,
   "id": "396c0dc7-4c1e-42b3-9f4d-aecd4cebd176",
   "metadata": {},
   "outputs": [],
   "source": [
    "Q1.  Explain with an example each when to use a for loop and a while loop.\n",
    "\n",
    "Ans. For loop is used to iterate over a sequence of items that means it normally used when the number of iterations is previously knowned.\n",
    "while loop is used to iterate over a sequence of items which is previously unknowned. that means While loop is used to repeatedly execute a block of statements while a condition is true."
   ]
  },
  {
   "cell_type": "code",
   "execution_count": 9,
   "id": "ac04ced7-79db-4a9e-9288-a5a531e8cd73",
   "metadata": {},
   "outputs": [
    {
     "name": "stdout",
     "output_type": "stream",
     "text": [
      "apple\n",
      "banana\n",
      "cherry\n"
     ]
    }
   ],
   "source": [
    "#example of for loop in python\n",
    "fruits = [\"apple\", \"banana\", \"cherry\"]\n",
    "for i in fruits:\n",
    "  print(i)\n"
   ]
  },
  {
   "cell_type": "code",
   "execution_count": 10,
   "id": "8ee1ea7c-1c83-4485-94e2-e108871908e4",
   "metadata": {},
   "outputs": [
    {
     "name": "stdout",
     "output_type": "stream",
     "text": [
      "1\n",
      "2\n",
      "3\n",
      "4\n",
      "5\n"
     ]
    }
   ],
   "source": [
    "#example of while loop in python\n",
    "# program to display numbers from 1 to 5\n",
    "# initialize the variable\n",
    "i = 1\n",
    "n = 5\n",
    "# while loop from i = 1 to 5\n",
    "while i <= n:\n",
    "    print(i)\n",
    "    i = i + 1"
   ]
  },
  {
   "cell_type": "code",
   "execution_count": 11,
   "id": "46941de9-4583-42c8-af7a-f7681bf16aff",
   "metadata": {},
   "outputs": [
    {
     "name": "stdout",
     "output_type": "stream",
     "text": [
      "45\n"
     ]
    }
   ],
   "source": [
    "# Write a python program to print the sum and product of the first 10 natural numbers using for \n",
    "#and while loop.\n",
    "#forloop\n",
    "sum = 0\n",
    "for i in range(0,10):\n",
    "    sum = sum+i\n",
    "print(sum)\n"
   ]
  },
  {
   "cell_type": "code",
   "execution_count": 12,
   "id": "002f7354-3757-419d-91b8-705a6b7b48dd",
   "metadata": {},
   "outputs": [
    {
     "name": "stdout",
     "output_type": "stream",
     "text": [
      "3628800\n"
     ]
    }
   ],
   "source": [
    "#product of ten natural number using for loop \n",
    "sum= 1\n",
    "for i in range(1,11):\n",
    "    sum = sum*i\n",
    "print(sum)"
   ]
  },
  {
   "cell_type": "code",
   "execution_count": 13,
   "id": "08a21d55-9903-4ded-8cda-101bb615c04b",
   "metadata": {},
   "outputs": [
    {
     "name": "stdout",
     "output_type": "stream",
     "text": [
      "55\n"
     ]
    }
   ],
   "source": [
    "#sum of first ten natural mumber using while loop\n",
    "i=1\n",
    "sum = 0\n",
    "while i<=10:\n",
    "    sum = sum+i\n",
    "    i=i+1\n",
    "print(sum)"
   ]
  },
  {
   "cell_type": "code",
   "execution_count": 14,
   "id": "af4ecc6a-af7c-492c-a382-22dfca8ce670",
   "metadata": {},
   "outputs": [
    {
     "name": "stdout",
     "output_type": "stream",
     "text": [
      "3628800\n"
     ]
    }
   ],
   "source": [
    "#while loop\n",
    "i=1\n",
    "product = 1\n",
    "while i <= 10:\n",
    "    product = i * product\n",
    "    i=i+1\n",
    "print(product)"
   ]
  },
  {
   "cell_type": "code",
   "execution_count": null,
   "id": "3c89159d-3a9a-434d-a40f-7a0fb2312522",
   "metadata": {},
   "outputs": [],
   "source": []
  }
 ],
 "metadata": {
  "kernelspec": {
   "display_name": "Python 3 (ipykernel)",
   "language": "python",
   "name": "python3"
  },
  "language_info": {
   "codemirror_mode": {
    "name": "ipython",
    "version": 3
   },
   "file_extension": ".py",
   "mimetype": "text/x-python",
   "name": "python",
   "nbconvert_exporter": "python",
   "pygments_lexer": "ipython3",
   "version": "3.10.8"
  }
 },
 "nbformat": 4,
 "nbformat_minor": 5
}
